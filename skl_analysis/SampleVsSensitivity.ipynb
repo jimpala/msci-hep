{
 "cells": [
  {
   "cell_type": "code",
   "execution_count": 2,
   "metadata": {
    "collapsed": false
   },
   "outputs": [
    {
     "name": "stderr",
     "output_type": "stream",
     "text": [
      "/usr/local/lib/python2.7/site-packages/matplotlib/font_manager.py:273: UserWarning: Matplotlib is building the font cache using fc-list. This may take a moment.\n",
      "  warnings.warn('Matplotlib is building the font cache using fc-list. This may take a moment.')\n"
     ]
    }
   ],
   "source": [
    "import numpy as np\n",
    "import pandas as pd\n",
    "import matplotlib.pyplot as plt\n",
    "%matplotlib inline\n",
    "import seaborn as sns\n",
    "import json"
   ]
  },
  {
   "cell_type": "code",
   "execution_count": 3,
   "metadata": {
    "collapsed": false
   },
   "outputs": [
    {
     "data": {
      "text/plain": [
       "{u'err_2jet': [0.1013044479016858,\n",
       "  0.18884023869581187,\n",
       "  0.1566137307211225,\n",
       "  0.17965091618375514,\n",
       "  0.1756210015588986,\n",
       "  0.19812264150545575,\n",
       "  0.29753306115363803,\n",
       "  0.33017013998824274,\n",
       "  0.2357624899432268,\n",
       "  0.22509199312642597,\n",
       "  0.23896718539324788,\n",
       "  0.3737818407733786,\n",
       "  0.30956144802096164,\n",
       "  0.39195720334421447,\n",
       "  0.34910396871016663,\n",
       "  0.3303141136192107,\n",
       "  0.3720608697294717,\n",
       "  0.35556007042822646,\n",
       "  0.3925421818022654],\n",
       " u'err_3jet': [0.07385865668020475,\n",
       "  0.08536042148342222,\n",
       "  0.10672133305331118,\n",
       "  0.15372417764925855,\n",
       "  0.15539983999670376,\n",
       "  0.36182462378520436,\n",
       "  0.20788089067529952,\n",
       "  0.26850481944278526,\n",
       "  0.19164083745620158,\n",
       "  0.23755714148529633,\n",
       "  0.2588194742530405,\n",
       "  0.4249338829028542,\n",
       "  0.3587197607240862,\n",
       "  0.28482474718686424,\n",
       "  0.4273158909814384,\n",
       "  0.2706087886090446,\n",
       "  0.40084866002921077,\n",
       "  0.4420031276048637,\n",
       "  0.4720978204245995],\n",
       " u'nsamples_2jet': 38745,\n",
       " u'nsamples_3jet': 125374,\n",
       " u'sample_fracs': [0.1,\n",
       "  0.15000000000000002,\n",
       "  0.2,\n",
       "  0.25,\n",
       "  0.30000000000000004,\n",
       "  0.35,\n",
       "  0.4,\n",
       "  0.45000000000000007,\n",
       "  0.5,\n",
       "  0.55,\n",
       "  0.6,\n",
       "  0.65,\n",
       "  0.7000000000000001,\n",
       "  0.75,\n",
       "  0.8,\n",
       "  0.85,\n",
       "  0.9,\n",
       "  0.9500000000000001,\n",
       "  1.0],\n",
       " u'sens_2jet': [0.7704371794507713,\n",
       "  0.9528428495024703,\n",
       "  1.1962041762358893,\n",
       "  1.3455460417790266,\n",
       "  1.413768511450076,\n",
       "  1.5956772481390795,\n",
       "  1.6528026047202462,\n",
       "  1.9765102807506,\n",
       "  1.9340182411786702,\n",
       "  1.9793243031868386,\n",
       "  2.0235520465290895,\n",
       "  2.226592536816805,\n",
       "  2.3282009836924997,\n",
       "  2.321863700357458,\n",
       "  2.361811062419286,\n",
       "  2.416261694261757,\n",
       "  2.5438669267420098,\n",
       "  2.5354862288241,\n",
       "  2.6986546394322226],\n",
       " u'sens_3jet': [0.510820703220854,\n",
       "  0.583238095855382,\n",
       "  0.6879938261595814,\n",
       "  0.7895143045197139,\n",
       "  0.9708052666139849,\n",
       "  0.927646777786159,\n",
       "  1.0784009974682307,\n",
       "  1.1873391547815808,\n",
       "  1.1884522997197686,\n",
       "  1.1418929291954631,\n",
       "  1.2544652818126196,\n",
       "  1.3015783474862996,\n",
       "  1.3077350533922125,\n",
       "  1.4898279870074786,\n",
       "  1.4729061837524418,\n",
       "  1.5404284535607302,\n",
       "  1.5226907920335686,\n",
       "  1.5654768821118517,\n",
       "  1.634416802196364]}"
      ]
     },
     "execution_count": 3,
     "metadata": {},
     "output_type": "execute_result"
    }
   ],
   "source": [
    "json_data = json.load(open('samplesVsSensitivity.json', 'r'))\n",
    "json_data"
   ]
  },
  {
   "cell_type": "code",
   "execution_count": 7,
   "metadata": {
    "collapsed": false
   },
   "outputs": [
    {
     "data": {
      "image/png": "[encoded data removed]",
      "text/plain": [
       "<matplotlib.figure.Figure at 0x112a75190>"
      ]
     },
     "metadata": {},
     "output_type": "display_data"
    }
   ],
   "source": [
    "sample_fracs = json_data['sample_fracs']\n",
    "sens_2jet = json_data['sens_2jet']\n",
    "sens_3jet = json_data['sens_3jet']\n",
    "err_2jet = json_data['err_2jet']\n",
    "err_3jet = json_data['err_3jet']\n",
    "\n",
    "fig = plt.figure()\n",
    "ax1 = fig.add_subplot(111)\n",
    "\n",
    "ax1.errorbar(sample_fracs, sens_2jet, yerr=err_2jet, marker=\"x\", label='2 jet')\n",
    "ax1.errorbar(sample_fracs, sens_3jet, yerr=err_3jet, marker=\"x\", label='3 jet')\n",
    "plt.legend(loc='upper left');\n",
    "plt.show()"
   ]
  },
  {
   "cell_type": "code",
   "execution_count": null,
   "metadata": {
    "collapsed": true
   },
   "outputs": [],
   "source": []
  }
 ],
 "metadata": {
  "kernelspec": {
   "display_name": "Python 2",
   "language": "python",
   "name": "python2"
  },
  "language_info": {
   "codemirror_mode": {
    "name": "ipython",
    "version": 2
   },
   "file_extension": ".py",
   "mimetype": "text/x-python",
   "name": "python",
   "nbconvert_exporter": "python",
   "pygments_lexer": "ipython2",
   "version": "2.7.12"
  }
 },
 "nbformat": 4,
 "nbformat_minor": 0
}
