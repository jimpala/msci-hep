{
 "cells": [
  {
   "cell_type": "code",
   "execution_count": 1,
   "metadata": {
    "collapsed": false
   },
   "outputs": [
    {
     "name": "stderr",
     "output_type": "stream",
     "text": [
      "/usr/local/lib/python2.7/site-packages/matplotlib/font_manager.py:273: UserWarning: Matplotlib is building the font cache using fc-list. This may take a moment.\n",
      "  warnings.warn('Matplotlib is building the font cache using fc-list. This may take a moment.')\n"
     ]
    }
   ],
   "source": [
    "import numpy as np\n",
    "import pandas as pd\n",
    "import matplotlib.pyplot as plt\n",
    "%matplotlib inline\n",
    "import seaborn as sns\n",
    "import json"
   ]
  },
  {
   "cell_type": "code",
   "execution_count": 3,
   "metadata": {
    "collapsed": false
   },
   "outputs": [
    {
     "data": {
      "text/plain": [
       "{u'err_2jet': [0.023856308696899756,\n",
       "  0.03290885092340471,\n",
       "  0.04387222529188366,\n",
       "  0.050487421729281154,\n",
       "  0.06684390297377742,\n",
       "  0.04756577831393485,\n",
       "  0.10253290337117578,\n",
       "  0.05651173174229217,\n",
       "  0.05425196535381249,\n",
       "  0.06586722749279104,\n",
       "  0.0710385059303017,\n",
       "  0.07566434690682136,\n",
       "  0.08830710746103793,\n",
       "  0.08392285327004728,\n",
       "  0.06659057240707623,\n",
       "  0.10548317121642943,\n",
       "  0.07613787398101476,\n",
       "  0.09401575490792596,\n",
       "  0.08561911282640203],\n",
       " u'err_3jet': [0.012535506886538981,\n",
       "  0.013986091025737786,\n",
       "  0.018374496920189137,\n",
       "  0.018814164138481734,\n",
       "  0.02161300749785985,\n",
       "  0.024225937558133574,\n",
       "  0.022877826707367595,\n",
       "  0.02570730140897553,\n",
       "  0.026891665728688063,\n",
       "  0.025750730792285292,\n",
       "  0.027019566204019706,\n",
       "  0.0292431153366508,\n",
       "  0.03148273751570921,\n",
       "  0.03269799824627579,\n",
       "  0.03322892501934665,\n",
       "  0.03458313415526813,\n",
       "  0.034684055955200944,\n",
       "  0.0357767285207996,\n",
       "  0.03777694257442769],\n",
       " u'nsamples_2jet': 38745,\n",
       " u'nsamples_3jet': 125374,\n",
       " u'sample_fracs': [0.1,\n",
       "  0.15000000000000002,\n",
       "  0.20000000000000004,\n",
       "  0.25000000000000006,\n",
       "  0.30000000000000004,\n",
       "  0.3500000000000001,\n",
       "  0.40000000000000013,\n",
       "  0.45000000000000007,\n",
       "  0.5000000000000001,\n",
       "  0.5500000000000002,\n",
       "  0.6000000000000002,\n",
       "  0.6500000000000001,\n",
       "  0.7000000000000002,\n",
       "  0.7500000000000002,\n",
       "  0.8000000000000002,\n",
       "  0.8500000000000002,\n",
       "  0.9000000000000002,\n",
       "  0.9500000000000003,\n",
       "  1.0000000000000004],\n",
       " u'sens_2jet': [0.2500592697156973,\n",
       "  0.312492592383011,\n",
       "  0.3692029972670701,\n",
       "  0.3995435540144107,\n",
       "  0.45122021684650626,\n",
       "  0.4717428301005314,\n",
       "  0.5092132225817355,\n",
       "  0.5295462632434215,\n",
       "  0.553760771269597,\n",
       "  0.5829939092762507,\n",
       "  0.5948998074363324,\n",
       "  0.6297407962562268,\n",
       "  0.6400338628982722,\n",
       "  0.676574772920172,\n",
       "  0.6834564168833129,\n",
       "  0.7052511111295438,\n",
       "  0.7274098506577339,\n",
       "  0.7228382857223471,\n",
       "  0.7617073291954511],\n",
       " u'sens_3jet': [0.1276147407826144,\n",
       "  0.14692003632762163,\n",
       "  0.18751346799144333,\n",
       "  0.192246629665858,\n",
       "  0.2234677595889214,\n",
       "  0.23796809657367257,\n",
       "  0.2431379201462382,\n",
       "  0.26359529082690364,\n",
       "  0.26970473033732995,\n",
       "  0.2811681858756526,\n",
       "  0.2894396770497634,\n",
       "  0.30680960214429154,\n",
       "  0.318050444517254,\n",
       "  0.3379564569000358,\n",
       "  0.33828650312659325,\n",
       "  0.3561858096473287,\n",
       "  0.36907034388046017,\n",
       "  0.3754194631132351,\n",
       "  0.3876989996440281]}"
      ]
     },
     "execution_count": 3,
     "metadata": {},
     "output_type": "execute_result"
    }
   ],
   "source": [
    "json_data = json.load(open('samplesVsSensitivity.json', 'r'))\n",
    "json_data"
   ]
  },
  {
   "cell_type": "code",
   "execution_count": 7,
   "metadata": {
    "collapsed": false
   },
   "outputs": [
    {
     "data": {
      "text/plain": [
       "[<matplotlib.lines.Line2D at 0x10fbf3490>]"
      ]
     },
     "execution_count": 7,
     "metadata": {},
     "output_type": "execute_result"
    },
    {
     "data": {
      "image/png": "[encoded data removed]",
      "text/plain": [
       "<matplotlib.figure.Figure at 0x10f91b550>"
      ]
     },
     "metadata": {},
     "output_type": "display_data"
    }
   ],
   "source": [
    "sample_fracs = json_data['sample_fracs']\n",
    "sens_2jet = json_data['sens_2jet']\n",
    "\n",
    "plt.plot(sample_fracs, sens_2jet)"
   ]
  },
  {
   "cell_type": "code",
   "execution_count": null,
   "metadata": {
    "collapsed": true
   },
   "outputs": [],
   "source": []
  }
 ],
 "metadata": {
  "kernelspec": {
   "display_name": "Python 2",
   "language": "python",
   "name": "python2"
  },
  "language_info": {
   "codemirror_mode": {
    "name": "ipython",
    "version": 2
   },
   "file_extension": ".py",
   "mimetype": "text/x-python",
   "name": "python",
   "nbconvert_exporter": "python",
   "pygments_lexer": "ipython2",
   "version": "2.7.12"
  }
 },
 "nbformat": 4,
 "nbformat_minor": 0
}
