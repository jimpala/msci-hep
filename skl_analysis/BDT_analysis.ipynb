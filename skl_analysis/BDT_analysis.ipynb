{
 "cells": [
  {
   "cell_type": "markdown",
   "metadata": {},
   "source": [
    "### Imports"
   ]
  },
  {
   "cell_type": "code",
   "execution_count": 11,
   "metadata": {
    "collapsed": true
   },
   "outputs": [],
   "source": [
    "import numpy as np\n",
    "import pandas as pd\n",
    "import matplotlib.pyplot as plt\n",
    "%matplotlib inline\n",
    "\n",
    "from sklearn.ensemble import AdaBoostClassifier\n",
    "from sklearn.tree import DecisionTreeClassifier\n",
    "from sklearn.model_selection import train_test_split"
   ]
  },
  {
   "cell_type": "markdown",
   "metadata": {},
   "source": [
    "### Sample Maps"
   ]
  },
  {
   "cell_type": "code",
   "execution_count": 12,
   "metadata": {
    "collapsed": true
   },
   "outputs": [],
   "source": [
    "sample_map = {\n",
    "    'qqZvvH125': 1,\n",
    "    'qqWlvH125': 2,\n",
    "    'Wbb': 3,\n",
    "    'Wbc': 4,\n",
    "    'Wcc': 5,\n",
    "    'Wbl': 6,\n",
    "    'Wcl': 7,\n",
    "    'Wl': 8,\n",
    "    'Zbb': 9,\n",
    "    'Zbc': 10,\n",
    "    'Zcc': 11,\n",
    "    'Zbl': 12,\n",
    "    'Zcl': 13,\n",
    "    'Zl': 14,\n",
    "    'ttbar': 15,\n",
    "    'stopt': 16,\n",
    "    'stops': 17,\n",
    "    'stopWt': 18,\n",
    "    'WW': 19,\n",
    "    'ZZ': 20,\n",
    "    'WZ': 21\n",
    "}\n",
    "sample_map_invert = dict(zip(sample_map.values(),sample_map.keys()))\n",
    "\n",
    "\n",
    "reduce_map = {\n",
    "    'qqZvvH125': 'VH',\n",
    "    'qqWlvH125': 'VH',\n",
    "    'Wbb': 'V+jets',\n",
    "    'Wbc': 'V+jets',\n",
    "    'Wcc': 'V+jets',\n",
    "    'Wbl': 'V+jets',\n",
    "    'Wcl': 'V+jets',\n",
    "    'Wl': 'V+jets',\n",
    "    'Zbb': 'V+jets',\n",
    "    'Zbc': 'V+jets',\n",
    "    'Zcc': 'V+jets',\n",
    "    'Zbl': 'V+jets',\n",
    "    'Zcl': 'V+jets',\n",
    "    'Zl': 'V+jets',\n",
    "    'ttbar': 'ttbar',\n",
    "    'stopt': 'stop',\n",
    "    'stops': 'stop',\n",
    "    'stopWt': 'stop',\n",
    "    'WW': 'diboson',\n",
    "    'ZZ': 'diboson',\n",
    "    'WZ': 'diboson'\n",
    "}\n",
    "\n",
    "reduced_sample_map = dict()\n",
    "\n",
    "signal_zipped = dict(zip(range(1, 3), ['VH' for x in range(2)]))\n",
    "Vjets_zipped = dict(zip(range(3, 15), ['V+jets' for x in range(12)]))\n",
    "ttbar_zipped = {15: 'ttbar'}\n",
    "stop_zipped = dict(zip(range(16, 19), ['stop' for x in range(3)]))\n",
    "diboson_zipped = dict(zip(range(19, 22), ['diboson' for x in range(3)]))\n",
    "\n",
    "reduced_sample_map.update(signal_zipped)\n",
    "reduced_sample_map.update(Vjets_zipped)\n",
    "reduced_sample_map.update(ttbar_zipped)\n",
    "reduced_sample_map.update(stop_zipped)\n",
    "reduced_sample_map.update(diboson_zipped)\n",
    "\n",
    "branch_names = [\"sample\", \"EventWeight\", \"EventNumber\", \"nJ\", \"nBJ\", \"mBB\",\n",
    "                \"dRBB\", \"dPhiBB\", \"dEtaBB\",\n",
    "                \"dPhiVBB\", \"dPhiLBmin\", \"Mtop\", \"dYWH\", \"dEtaWH\",\n",
    "                \"dPhiLMET\", \"pTV\", \"pTB1\", \"pTB2\", \"pTL\", \"etaL\",\n",
    "                \"mTW\", \"MET\", \"pTJ3\", \"mBBJ\", \"BDT\"]"
   ]
  },
  {
   "cell_type": "markdown",
   "metadata": {},
   "source": [
    "### Data Processing"
   ]
  },
  {
   "cell_type": "code",
   "execution_count": 15,
   "metadata": {
    "collapsed": true
   },
   "outputs": [],
   "source": [
    "# Read in NTuple data from pre-processed CSV file.\n",
    "df = pd.read_csv('/Volumes/THUMB/VHbb-data/CSV/VHbb_data_preselect.csv', index_col=0)\n",
    "\n",
    "# Split into 2 jet and 3 jet trainings.\n",
    "df_2jet = df[df['nJ'] == 2]\n",
    "df_3jet = df[df['nJ'] == 3]\n",
    "\n",
    "# Classification array for these DFs.\n",
    "classification_2jet = df_2jet['Class'].as_matrix()\n",
    "classification_3jet = df_3jet['Class'].as_matrix()\n",
    "\n",
    "# Drop unneeded columns for the training.\n",
    "df_2jet_filtered = df_2jet.drop(['sample','EventWeight','nJ','nBJ', 'dEtaBB', 'dPhiBB',\n",
    "                                 'dEtaWH', 'dPhiLMET', 'BDT', 'pTL', 'etaL', 'Class',\n",
    "                                 'mBBJ', 'pTJ3'], axis=1)\n",
    "df_3jet_filtered = df_3jet.drop(['sample','EventWeight','nJ','nBJ', 'dEtaBB', 'dPhiBB',\n",
    "                                 'dEtaWH', 'dPhiLMET', 'BDT', 'pTL', 'etaL', 'Class'], axis=1)\n",
    "\n",
    "# Convert to ndarray. All elements will be recast as floats.\n",
    "dataset_2jet = df_2jet_filtered.as_matrix()\n",
    "dataset_3jet = df_3jet_filtered.as_matrix()\n",
    "\n",
    "# Split into training and test sets.\n",
    "train_2jet, test_2jet, train_2jet_class, test_2jet_class = train_test_split(dataset_2jet,\n",
    "                                                                            classification_2jet,\n",
    "                                                                            test_size=0.25,\n",
    "                                                                            random_state=42)\n",
    "\n",
    "train_3jet, test_3jet, train_3jet_class, test_3jet_class = train_test_split(dataset_3jet,\n",
    "                                                                            classification_3jet,\n",
    "                                                                            test_size=0.25,\n",
    "                                                                            random_state=42)\n",
    "\n",
    "# Preserve event numbers of train and test sets, then drop from training and test sets.\n",
    "\n",
    "train_2jet_event_nos = train_2jet[:, 0].astype(int)\n",
    "train_3jet_event_nos = train_3jet[:, 0].astype(int)\n",
    "test_2jet_event_nos = test_2jet[:, 0].astype(int)\n",
    "test_3jet_event_nos = test_3jet[:, 0].astype(int)\n",
    "\n",
    "train_2jet = np.delete(train_2jet, 0, 1)\n",
    "train_3jet = np.delete(train_3jet, 0, 1)\n",
    "test_2jet = np.delete(test_2jet, 0, 1)\n",
    "test_3jet = np.delete(test_3jet, 0, 1)\n",
    "\n",
    "# Map event numbers to process type numbers and event weights.\n",
    "event_to_process_nos = pd.Series(df['sample'].as_matrix(), index=df['EventNumber'].as_matrix()).to_dict()\n",
    "event_to_weight = pd.Series(df['EventWeight'].as_matrix(), index=df['EventNumber'].as_matrix()).to_dict()\n",
    "\n",
    "test_2jet_process_nos = map(lambda a: event_to_process_nos[a],test_2jet_event_nos)\n",
    "test_3jet_process_nos = map(lambda a: event_to_process_nos[a],test_3jet_event_nos)\n",
    "\n",
    "# Map process types numbers to process type groups.\n",
    "# Note that this is a convoluted process and could be\n",
    "# simplified at a later date...\n",
    "test_2jet_processes = np.array(map(lambda a: sample_map_invert[a], test_2jet_process_nos))\n",
    "test_3jet_processes = np.array(map(lambda a: sample_map_invert[a], test_3jet_process_nos))\n",
    "\n",
    "# Map event numbers to event weights.\n",
    "train_2jet_weights = np.array(map(lambda a: event_to_weight[a], train_2jet_event_nos))\n",
    "train_3jet_weights = np.array(map(lambda a: event_to_weight[a], train_3jet_event_nos))"
   ]
  },
  {
   "cell_type": "markdown",
   "metadata": {},
   "source": [
    "### 2 Jet MVA"
   ]
  },
  {
   "cell_type": "code",
   "execution_count": 16,
   "metadata": {
    "collapsed": false
   },
   "outputs": [],
   "source": [
    "#################\n",
    "#     2 JET     #\n",
    "#################\n",
    "\n",
    "# Create BDT object.\n",
    "bdt = AdaBoostClassifier(DecisionTreeClassifier(max_depth=3),\n",
    "                         algorithm=\"SAMME\",\n",
    "                         n_estimators=200)\n",
    "\n",
    "# Train BDT for 2 jet.\n",
    "bdt.fit(train_2jet, train_2jet_class, sample_weight=train_2jet_weights)\n",
    "\n",
    "# Get decision scores for test set.\n",
    "twoclass_output = np.array(bdt.decision_function(test_2jet))"
   ]
  },
  {
   "cell_type": "markdown",
   "metadata": {},
   "source": [
    "### 2 Jet Plot"
   ]
  },
  {
   "cell_type": "code",
   "execution_count": 18,
   "metadata": {
    "collapsed": false
   },
   "outputs": [
    {
     "data": {
      "image/png": "[encoded data removed]",
      "text/plain": [
       "<matplotlib.figure.Figure at 0x1161e6a90>"
      ]
     },
     "metadata": {},
     "output_type": "display_data"
    }
   ],
   "source": [
    "# Plot decision histogram.\n",
    "plot_range = (twoclass_output.min(), twoclass_output.max())\n",
    "plt.subplot(122)\n",
    "\n",
    "plot_colors = 2*\"r\" + 12*\"g\" + \"y\" + 3*\"b\" + 3*\"m\"\n",
    "plot_step = 0.02\n",
    "class_names = sample_map.keys()\n",
    "\n",
    "for n, c in zip(class_names[:2], plot_colors[:2]):\n",
    "    plt.hist(twoclass_output[test_2jet_processes == n],\n",
    "             bins=10,\n",
    "             range=plot_range,\n",
    "             facecolor=c,\n",
    "             label='%s' % n,\n",
    "             stacked=True)\n",
    "x1, x2, y1, y2 = plt.axis()\n",
    "plt.axis((x1, x2, y1, y2 * 1.2))\n",
    "# plt.legend(loc='upper right')\n",
    "plt.ylabel('Samples')\n",
    "plt.xlabel('Score')\n",
    "plt.title('Decision Scores')\n",
    "\n",
    "plt.tight_layout()\n",
    "plt.subplots_adjust(wspace=0.35)\n",
    "plt.show()"
   ]
  },
  {
   "cell_type": "code",
   "execution_count": null,
   "metadata": {
    "collapsed": true
   },
   "outputs": [],
   "source": []
  }
 ],
 "metadata": {
  "kernelspec": {
   "display_name": "Python 2",
   "language": "python",
   "name": "python2"
  },
  "language_info": {
   "codemirror_mode": {
    "name": "ipython",
    "version": 2
   },
   "file_extension": ".py",
   "mimetype": "text/x-python",
   "name": "python",
   "nbconvert_exporter": "python",
   "pygments_lexer": "ipython2",
   "version": "2.7.12"
  }
 },
 "nbformat": 4,
 "nbformat_minor": 0
}
