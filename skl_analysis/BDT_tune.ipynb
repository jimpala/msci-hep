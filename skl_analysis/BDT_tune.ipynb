{
 "cells": [
  {
   "cell_type": "markdown",
   "metadata": {
    "collapsed": true
   },
   "source": [
    "### Imports"
   ]
  },
  {
   "cell_type": "code",
   "execution_count": 3,
   "metadata": {},
   "outputs": [],
   "source": [
    "import numpy as np\n",
    "import pandas as pd\n",
    "import matplotlib.pyplot as plt\n",
    "%matplotlib inline\n",
    "plt.rcParams['figure.figsize'] = (10, 6)\n",
    "\n",
    "from sklearn.ensemble import AdaBoostClassifier\n",
    "from sklearn.tree import DecisionTreeClassifier\n",
    "from sklearn.model_selection import GridSearchCV\n",
    "from sklearn.model_selection import train_test_split"
   ]
  },
  {
   "cell_type": "markdown",
   "metadata": {},
   "source": [
    "### Sample Maps"
   ]
  },
  {
   "cell_type": "code",
   "execution_count": 4,
   "metadata": {},
   "outputs": [],
   "source": [
    "sample_map = {\n",
    "    'qqZvvH125': 1,\n",
    "    'qqWlvH125': 2,\n",
    "    'Wbb': 3,\n",
    "    'Wbc': 4,\n",
    "    'Wcc': 5,\n",
    "    'Wbl': 6,\n",
    "    'Wcl': 7,\n",
    "    'Wl': 8,\n",
    "    'Zbb': 9,\n",
    "    'Zbc': 10,\n",
    "    'Zcc': 11,\n",
    "    'Zbl': 12,\n",
    "    'Zcl': 13,\n",
    "    'Zl': 14,\n",
    "    'ttbar': 15,\n",
    "    'stopt': 16,\n",
    "    'stops': 17,\n",
    "    'stopWt': 18,\n",
    "    'WW': 19,\n",
    "    'ZZ': 20,\n",
    "    'WZ': 21\n",
    "}\n",
    "sample_map_invert = dict(zip(sample_map.values(),sample_map.keys()))\n",
    "\n",
    "\n",
    "reduce_map = {\n",
    "    'qqZvvH125': 'VH',\n",
    "    'qqWlvH125': 'VH',\n",
    "    'Wbb': 'V+jets',\n",
    "    'Wbc': 'V+jets',\n",
    "    'Wcc': 'V+jets',\n",
    "    'Wbl': 'V+jets',\n",
    "    'Wcl': 'V+jets',\n",
    "    'Wl': 'V+jets',\n",
    "    'Zbb': 'V+jets',\n",
    "    'Zbc': 'V+jets',\n",
    "    'Zcc': 'V+jets',\n",
    "    'Zbl': 'V+jets',\n",
    "    'Zcl': 'V+jets',\n",
    "    'Zl': 'V+jets',\n",
    "    'ttbar': 'ttbar',\n",
    "    'stopt': 'stop',\n",
    "    'stops': 'stop',\n",
    "    'stopWt': 'stop',\n",
    "    'WW': 'diboson',\n",
    "    'ZZ': 'diboson',\n",
    "    'WZ': 'diboson'\n",
    "}\n",
    "\n",
    "reduced_sample_map = dict()\n",
    "\n",
    "signal_zipped = dict(zip(range(1, 3), ['VH' for x in range(2)]))\n",
    "Vjets_zipped = dict(zip(range(3, 15), ['V+jets' for x in range(12)]))\n",
    "ttbar_zipped = {15: 'ttbar'}\n",
    "stop_zipped = dict(zip(range(16, 19), ['stop' for x in range(3)]))\n",
    "diboson_zipped = dict(zip(range(19, 22), ['diboson' for x in range(3)]))\n",
    "\n",
    "reduced_sample_map.update(signal_zipped)\n",
    "reduced_sample_map.update(Vjets_zipped)\n",
    "reduced_sample_map.update(ttbar_zipped)\n",
    "reduced_sample_map.update(stop_zipped)\n",
    "reduced_sample_map.update(diboson_zipped)\n",
    "\n",
    "branch_names = [\"sample\", \"EventWeight\", \"EventNumber\", \"nJ\", \"nBJ\", \"mBB\",\n",
    "                \"dRBB\", \"dPhiBB\", \"dEtaBB\",\n",
    "                \"dPhiVBB\", \"dPhiLBmin\", \"Mtop\", \"dYWH\", \"dEtaWH\",\n",
    "                \"dPhiLMET\", \"pTV\", \"pTB1\", \"pTB2\", \"pTL\", \"etaL\",\n",
    "                \"mTW\", \"MET\", \"pTJ3\", \"mBBJ\", \"BDT\"]"
   ]
  },
  {
   "cell_type": "code",
   "execution_count": 5,
   "metadata": {},
   "outputs": [],
   "source": [
    "# %load ~/dev/root_dev/skl_analysis/scale_factors.py\n",
    "SF_map_2jet = {\n",
    "\t'Zl': 1.0,\n",
    "\t'Zcl': 1.41,\n",
    "\t'Zcc': 1.15,\n",
    "\t'Zbl': 1.15,\n",
    "\t'Zbc': 1.15,\n",
    "\t'Zbb': 1.15,\n",
    "\t'Wl': 1.00,\n",
    "\t'Wcl': 1.22,\n",
    "\t'Wcc': 1.65,\n",
    "\t'Wbl': 1.65,\n",
    "\t'Wbc': 1.65,\n",
    "\t'Wbb': 1.65,\n",
    "\t'stopWt': 0.92,\n",
    "\t'stopt': 0.92,\n",
    "\t'stops': 0.92,\n",
    "\t'ttbar': 0.80,\n",
    "\t'multijet': 0.63,\n",
    "\t'WW': 1.13,\n",
    "\t'ZZ': 1.13,\n",
    "\t'WZ': 1.13,\n",
    "\t'qqZvvH125': 0.20,\n",
    "\t'qqWlvH125': 0.20\n",
    "}"
   ]
  },
  {
   "cell_type": "markdown",
   "metadata": {},
   "source": [
    "### Data Handling"
   ]
  },
  {
   "cell_type": "code",
   "execution_count": 6,
   "metadata": {},
   "outputs": [],
   "source": [
    "# Read in NTuple data from pre-processed CSV file.\n",
    "df = pd.read_csv('/Volumes/THUMB/VHbb-data/CSV/VHbb_data_preselect.csv', index_col=0)\n",
    "\n",
    "# Split into 2 jet and 3 jet trainings.\n",
    "df_2jet = df[df['nJ'] == 2]\n",
    "df_3jet = df[df['nJ'] == 3]\n",
    "\n",
    "# Classification array for these DFs.\n",
    "classification_2jet = df_2jet['Class'].as_matrix()\n",
    "classification_3jet = df_3jet['Class'].as_matrix()\n",
    "\n",
    "# Drop unneeded columns for the training.\n",
    "df_2jet_filtered = df_2jet.drop(['sample','EventWeight','nJ','nBJ', 'dEtaBB', 'dPhiBB',\n",
    "                                 'dEtaWH', 'dPhiLMET', 'BDT', 'pTL', 'etaL', 'Class',\n",
    "                                 'mBBJ', 'pTJ3'], axis=1)\n",
    "df_3jet_filtered = df_3jet.drop(['sample','EventWeight','nJ','nBJ', 'dEtaBB', 'dPhiBB',\n",
    "                                 'dEtaWH', 'dPhiLMET', 'BDT', 'pTL', 'etaL', 'Class'], axis=1)\n",
    "\n",
    "# Convert to ndarray. All elements will be recast as floats.\n",
    "dataset_2jet = df_2jet_filtered.as_matrix()\n",
    "dataset_3jet = df_3jet_filtered.as_matrix()\n",
    "\n",
    "# Split into training and test sets.\n",
    "X_k1_2jet, X_k2_2jet, Y_k1_2jet, Y_k2_2jet = train_test_split(dataset_2jet,\n",
    "                                                                            classification_2jet,\n",
    "                                                                            test_size=0.5,\n",
    "                                                                            random_state=42)\n",
    "\n",
    "X_k1_3jet, X_k2_3jet, Y_k1_3jet, Y_k2_3jet = train_test_split(dataset_3jet,\n",
    "                                                                            classification_3jet,\n",
    "                                                                            test_size=0.5,\n",
    "                                                                            random_state=42)\n",
    "\n",
    "# Preserve event numbers of train and test sets, then drop from training and test sets.\n",
    "\n",
    "X_k1_2jet_event_nos = X_k1_2jet[:, 0].astype(int)\n",
    "X_k1_3jet_event_nos = X_k1_3jet[:, 0].astype(int)\n",
    "X_k2_2jet_event_nos = X_k2_2jet[:, 0].astype(int)\n",
    "X_k2_3jet_event_nos = X_k2_3jet[:, 0].astype(int)\n",
    "\n",
    "X_k1_2jet = np.delete(X_k1_2jet, 0, 1)\n",
    "X_k1_3jet = np.delete(X_k1_3jet, 0, 1)\n",
    "X_k2_2jet = np.delete(X_k2_2jet, 0, 1)\n",
    "X_k2_3jet = np.delete(X_k2_3jet, 0, 1)\n",
    "\n",
    "# Map event numbers to process type numbers.\n",
    "event_to_process_nos = pd.Series(df['sample'].as_matrix(),\n",
    "                                 index=df['EventNumber'].as_matrix()).to_dict()\n",
    "\n",
    "X_k1_2jet_process_nos = map(lambda a: event_to_process_nos[a],X_k1_2jet_event_nos)\n",
    "X_k1_3jet_process_nos = map(lambda a: event_to_process_nos[a],X_k1_3jet_event_nos)\n",
    "X_k2_2jet_process_nos = map(lambda a: event_to_process_nos[a],X_k2_2jet_event_nos)\n",
    "X_k2_3jet_process_nos = map(lambda a: event_to_process_nos[a],X_k2_3jet_event_nos)\n",
    "\n",
    "# Map process types numbers to process type groups.\n",
    "# Note that this is a convoluted process and could be\n",
    "# simplified at a later date...\n",
    "X_k1_2jet_processes = np.array(map(lambda a: sample_map_invert[a], X_k1_2jet_process_nos))\n",
    "X_k1_3jet_processes = np.array(map(lambda a: sample_map_invert[a], X_k1_3jet_process_nos))\n",
    "X_k2_2jet_processes = np.array(map(lambda a: sample_map_invert[a], X_k2_2jet_process_nos))\n",
    "X_k2_3jet_processes = np.array(map(lambda a: sample_map_invert[a], X_k2_3jet_process_nos))\n",
    "\n",
    "X_2jet_processes = np.append(X_k1_2jet_processes, X_k2_2jet_processes)\n",
    "\n",
    "# Get event to weight mapping.\n",
    "event_to_weight = pd.Series(df['EventWeight'].as_matrix(),\n",
    "                            index=df['EventNumber'].as_matrix()).to_dict()\n",
    "\n",
    "# Map event numbers to event weights.\n",
    "weights_k1_2jet = np.array(map(lambda a: event_to_weight[a], X_k1_2jet_event_nos))\n",
    "weights_k1_3jet = np.array(map(lambda a: event_to_weight[a], X_k1_3jet_event_nos))\n",
    "weights_k2_2jet = np.array(map(lambda a: event_to_weight[a], X_k2_2jet_event_nos))\n",
    "weights_k2_3jet = np.array(map(lambda a: event_to_weight[a], X_k2_3jet_event_nos))\n",
    "\n",
    "weights_2jet = np.append(weights_k1_2jet, weights_k2_2jet)\n",
    "weights_3jet = np.append(weights_k1_3jet, weights_k2_3jet)"
   ]
  },
  {
   "cell_type": "markdown",
   "metadata": {},
   "source": [
    "### 2 Jet BDTs"
   ]
  },
  {
   "cell_type": "code",
   "execution_count": 11,
   "metadata": {},
   "outputs": [],
   "source": [
    "bdt_k1_2jet = AdaBoostClassifier(DecisionTreeClassifier(max_depth=3, min_samples_split=0.05),\n",
    "                         learning_rate=0.15,\n",
    "                         algorithm=\"SAMME\",\n",
    "                         n_estimators=200\n",
    "                         )\n",
    "\n",
    "bdt_k2_2jet = AdaBoostClassifier(DecisionTreeClassifier(max_depth=3, min_samples_split=0.05),\n",
    "                         learning_rate=0.15,\n",
    "                         algorithm=\"SAMME\",\n",
    "                         n_estimators=200\n",
    "                         )\n",
    "\n",
    "# Train BDT for 2 jet.\n",
    "bdt_k1_2jet.fit(X_k1_2jet, Y_k1_2jet, sample_weight=weights_k1_2jet)\n",
    "bdt_k2_2jet.fit(X_k2_2jet, Y_k2_2jet, sample_weight=weights_k2_2jet)\n",
    "\n",
    "# Get decision scores.\n",
    "# K1 BDT tests on K2 data, and vice-versa.\n",
    "output_k1_2jet = np.array(bdt_k1_2jet.decision_function(X_k2_2jet))\n",
    "output_k2_2jet = np.array(bdt_k2_2jet.decision_function(X_k1_2jet))\n",
    "output_2jet = np.append(output_k2_2jet, output_k1_2jet)"
   ]
  },
  {
   "cell_type": "code",
   "execution_count": 9,
   "metadata": {},
   "outputs": [],
   "source": [
    ""
   ]
  },
  {
   "cell_type": "markdown",
   "metadata": {},
   "source": [
    "### Hyperparameter Scan"
   ]
  },
  {
   "cell_type": "code",
   "execution_count": 9,
   "metadata": {},
   "outputs": [],
   "source": [
    "param_grid = {\"n_estimators\": np.arange(100,350,50),\n",
    "              \"learning_rate\": np.arange(0.1,0.4,0.1),\n",
    "              \"base_estimator__splitter\": ['best', 'random']}\n",
    "\n",
    "\n",
    "def hyperparam_scan(mva, param_grid, X, Y):\n",
    "    \n",
    "    scanner = GridSearchCV(mva,\n",
    "                           param_grid,\n",
    "                           scoring='roc_auc',\n",
    "                           n_jobs=1,\n",
    "                           cv=3)\n",
    "    \n",
    "    scanner.fit(X,Y)\n",
    "    return scanner"
   ]
  },
  {
   "cell_type": "markdown",
   "metadata": {},
   "source": [
    "### 2 Jet Plot"
   ]
  },
  {
   "cell_type": "code",
   "execution_count": 20,
   "metadata": {},
   "outputs": [
    {
     "data": {
      "image/png": "[encoded data removed]",
      "text/plain": [
       "<matplotlib.figure.Figure at 0x11b30efd0>"
      ]
     },
     "metadata": {},
     "output_type": "display_data"
    }
   ],
   "source": [
    "# Plot decision histogram.\n",
    "plot_range = (output_2jet.min(), output_2jet.max())\n",
    "plt.subplot(122)\n",
    "\n",
    "plot_colors = 2*\"r\" + 12*\"g\" + \"y\" + 3*\"b\" + 3*\"m\"\n",
    "plot_step = 0.02\n",
    "class_names = ['qqZvvH125', 'qqWlvH125', 'Wbb', 'Wbc', 'Wcc', 'Wbl', 'Wcl', 'Wl',\n",
    "               'Zbb', 'Zbc', 'Zcc', 'Zbl', 'Zcl', 'Zl', 'ttbar', 'stopt', 'stops',\n",
    "               'stopWt', 'WW', 'ZZ', 'WZ']\n",
    "\n",
    "for n, c in zip(class_names[2:14], plot_colors[2:14]):\n",
    "    this_data = output_2jet[X_2jet_processes == n]\n",
    "    this_weights = weights_2jet[X_2jet_processes == n] * SF_map_2jet[n]\n",
    "    plt.hist(this_data,\n",
    "             bins=20,\n",
    "             weights=this_weights,\n",
    "             range=plot_range,\n",
    "             facecolor=c,\n",
    "             label='%s' % n,\n",
    "             stacked=True)\n",
    "x1, x2, y1, y2 = plt.axis()\n",
    "plt.axis((x1, x2, y1, y2 * 1.2))\n",
    "# plt.legend(loc='upper right')\n",
    "plt.ylabel('Samples')\n",
    "plt.xlabel('Score')\n",
    "plt.title('Decision Scores')\n",
    "\n",
    "plt.tight_layout()\n",
    "plt.subplots_adjust(wspace=0.35)\n",
    "plt.show()"
   ]
  },
  {
   "cell_type": "code",
   "execution_count": 25,
   "metadata": {},
   "outputs": [
    {
     "data": {
      "image/png": "[encoded data removed]",
      "text/plain": [
       "<matplotlib.figure.Figure at 0x11be5f850>"
      ]
     },
     "metadata": {},
     "output_type": "display_data"
    }
   ],
   "source": [
    "# Plot decision histogram.\n",
    "plot_range = (output_2jet.min(), output_2jet.max())\n",
    "plt.subplot(122)\n",
    "\n",
    "plot_colors = ['r', 'r', 'g', 'g', 'g', 'g', 'g', 'g', 'g', 'g', 'g',\n",
    "               'g', 'g', 'g', 'y', 'b', 'b', 'b', 'm', 'm', 'm']\n",
    "plot_step = 0.02\n",
    "class_names = ['qqZvvH125', 'qqWlvH125', 'Wbb', 'Wbc', 'Wcc', 'Wbl', 'Wcl', 'Wl',\n",
    "               'Zbb', 'Zbc', 'Zcc', 'Zbl', 'Zcl', 'Zl', 'ttbar', 'stopt', 'stops',\n",
    "               'stopWt', 'WW', 'ZZ', 'WZ']\n",
    "\n",
    "plot_data = []\n",
    "plot_weights = []\n",
    "for n, c in zip(class_names, plot_colors):\n",
    "    this_data = output_2jet[X_2jet_processes == n]\n",
    "    this_weights = weights_2jet[X_2jet_processes == n] * SF_map_2jet[n]\n",
    "    plot_data.append(this_data)\n",
    "    plot_weights.append(this_weights)\n",
    "    \n",
    "plt.hist(plot_data,\n",
    "         bins=20,\n",
    "         weights=plot_weights,\n",
    "         range=plot_range,\n",
    "         color= plot_colors,\n",
    "         stacked=True,\n",
    "         edgecolor='None')\n",
    "x1, x2, y1, y2 = plt.axis()\n",
    "plt.axis((x1, x2, y1, y2 * 1.2))\n",
    "# plt.legend(loc='upper right')\n",
    "plt.ylabel('Samples')\n",
    "plt.xlabel('Score')\n",
    "plt.title('Decision Scores')\n",
    "\n",
    "plt.tight_layout()\n",
    "plt.subplots_adjust(wspace=0.35)\n",
    "plt.show()"
   ]
  },
  {
   "cell_type": "code",
   "execution_count": null,
   "metadata": {},
   "outputs": [],
   "source": [
    ""
   ]
  }
 ],
 "metadata": {
  "kernelspec": {
   "display_name": "Python 2",
   "language": "python",
   "name": "python2"
  },
  "language_info": {
   "codemirror_mode": {
    "name": "ipython",
    "version": 2.0
   },
   "file_extension": ".py",
   "mimetype": "text/x-python",
   "name": "python",
   "nbconvert_exporter": "python",
   "pygments_lexer": "ipython2",
   "version": "2.7.6"
  }
 },
 "nbformat": 4,
 "nbformat_minor": 0
}