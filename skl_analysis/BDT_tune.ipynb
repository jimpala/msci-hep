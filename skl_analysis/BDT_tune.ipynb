{
 "cells": [
  {
   "cell_type": "markdown",
   "metadata": {
    "collapsed": true
   },
   "source": [
    "### Imports"
   ]
  },
  {
   "cell_type": "code",
   "execution_count": 3,
   "metadata": {},
   "outputs": [],
   "source": [
    "import numpy as np\n",
    "import pandas as pd\n",
    "import matplotlib.pyplot as plt\n",
    "%matplotlib inline\n",
    "plt.rcParams['figure.figsize'] = (10, 6)\n",
    "\n",
    "from sklearn.ensemble import AdaBoostClassifier\n",
    "from sklearn.tree import DecisionTreeClassifier\n",
    "from sklearn.model_selection import GridSearchCV\n",
    "from sklearn.model_selection import train_test_split"
   ]
  },
  {
   "cell_type": "markdown",
   "metadata": {},
   "source": [
    "### Sample Maps"
   ]
  },
  {
   "cell_type": "code",
   "execution_count": 4,
   "metadata": {},
   "outputs": [],
   "source": [
    "sample_map = {\n",
    "    'qqZvvH125': 1,\n",
    "    'qqWlvH125': 2,\n",
    "    'Wbb': 3,\n",
    "    'Wbc': 4,\n",
    "    'Wcc': 5,\n",
    "    'Wbl': 6,\n",
    "    'Wcl': 7,\n",
    "    'Wl': 8,\n",
    "    'Zbb': 9,\n",
    "    'Zbc': 10,\n",
    "    'Zcc': 11,\n",
    "    'Zbl': 12,\n",
    "    'Zcl': 13,\n",
    "    'Zl': 14,\n",
    "    'ttbar': 15,\n",
    "    'stopt': 16,\n",
    "    'stops': 17,\n",
    "    'stopWt': 18,\n",
    "    'WW': 19,\n",
    "    'ZZ': 20,\n",
    "    'WZ': 21\n",
    "}\n",
    "sample_map_invert = dict(zip(sample_map.values(),sample_map.keys()))\n",
    "\n",
    "\n",
    "reduce_map = {\n",
    "    'qqZvvH125': 'VH',\n",
    "    'qqWlvH125': 'VH',\n",
    "    'Wbb': 'V+jets',\n",
    "    'Wbc': 'V+jets',\n",
    "    'Wcc': 'V+jets',\n",
    "    'Wbl': 'V+jets',\n",
    "    'Wcl': 'V+jets',\n",
    "    'Wl': 'V+jets',\n",
    "    'Zbb': 'V+jets',\n",
    "    'Zbc': 'V+jets',\n",
    "    'Zcc': 'V+jets',\n",
    "    'Zbl': 'V+jets',\n",
    "    'Zcl': 'V+jets',\n",
    "    'Zl': 'V+jets',\n",
    "    'ttbar': 'ttbar',\n",
    "    'stopt': 'stop',\n",
    "    'stops': 'stop',\n",
    "    'stopWt': 'stop',\n",
    "    'WW': 'diboson',\n",
    "    'ZZ': 'diboson',\n",
    "    'WZ': 'diboson'\n",
    "}\n",
    "\n",
    "reduced_sample_map = dict()\n",
    "\n",
    "signal_zipped = dict(zip(range(1, 3), ['VH' for x in range(2)]))\n",
    "Vjets_zipped = dict(zip(range(3, 15), ['V+jets' for x in range(12)]))\n",
    "ttbar_zipped = {15: 'ttbar'}\n",
    "stop_zipped = dict(zip(range(16, 19), ['stop' for x in range(3)]))\n",
    "diboson_zipped = dict(zip(range(19, 22), ['diboson' for x in range(3)]))\n",
    "\n",
    "reduced_sample_map.update(signal_zipped)\n",
    "reduced_sample_map.update(Vjets_zipped)\n",
    "reduced_sample_map.update(ttbar_zipped)\n",
    "reduced_sample_map.update(stop_zipped)\n",
    "reduced_sample_map.update(diboson_zipped)\n",
    "\n",
    "branch_names = [\"sample\", \"EventWeight\", \"EventNumber\", \"nJ\", \"nBJ\", \"mBB\",\n",
    "                \"dRBB\", \"dPhiBB\", \"dEtaBB\",\n",
    "                \"dPhiVBB\", \"dPhiLBmin\", \"Mtop\", \"dYWH\", \"dEtaWH\",\n",
    "                \"dPhiLMET\", \"pTV\", \"pTB1\", \"pTB2\", \"pTL\", \"etaL\",\n",
    "                \"mTW\", \"MET\", \"pTJ3\", \"mBBJ\", \"BDT\"]"
   ]
  },
  {
   "cell_type": "code",
   "execution_count": 5,
   "metadata": {},
   "outputs": [],
   "source": [
    "# %load ~/dev/root_dev/skl_analysis/scale_factors.py\n",
    "SF_map_2jet = {\n",
    "\t'Zl': 1.0,\n",
    "\t'Zcl': 1.41,\n",
    "\t'Zcc': 1.15,\n",
    "\t'Zbl': 1.15,\n",
    "\t'Zbc': 1.15,\n",
    "\t'Zbb': 1.15,\n",
    "\t'Wl': 1.00,\n",
    "\t'Wcl': 1.22,\n",
    "\t'Wcc': 1.65,\n",
    "\t'Wbl': 1.65,\n",
    "\t'Wbc': 1.65,\n",
    "\t'Wbb': 1.65,\n",
    "\t'stopWt': 0.92,\n",
    "\t'stopt': 0.92,\n",
    "\t'stops': 0.92,\n",
    "\t'ttbar': 0.80,\n",
    "\t'multijet': 0.63,\n",
    "\t'WW': 1.13,\n",
    "\t'ZZ': 1.13,\n",
    "\t'WZ': 1.13,\n",
    "\t'qqZvvH125': 0.20,\n",
    "\t'qqWlvH125': 1.0\n",
    "}"
   ]
  },
  {
   "cell_type": "markdown",
   "metadata": {},
   "source": [
    "### Data Handling"
   ]
  },
  {
   "cell_type": "code",
   "execution_count": 6,
   "metadata": {},
   "outputs": [],
   "source": [
    "# Read in NTuple data from pre-processed CSV file.\n",
    "df = pd.read_csv('/Volumes/THUMB/VHbb-data/CSV/VHbb_data_preselect.csv', index_col=0)\n",
    "\n",
    "# Split into 2 jet and 3 jet trainings.\n",
    "df_2jet = df[df['nJ'] == 2]\n",
    "df_3jet = df[df['nJ'] == 3]\n",
    "\n",
    "# Classification array for these DFs.\n",
    "classification_2jet = df_2jet['Class'].as_matrix()\n",
    "classification_3jet = df_3jet['Class'].as_matrix()\n",
    "\n",
    "# Drop unneeded columns for the training.\n",
    "df_2jet_filtered = df_2jet.drop(['sample','EventWeight','nJ','nBJ', 'dEtaBB', 'dPhiBB',\n",
    "                                 'dEtaWH', 'dPhiLMET', 'BDT', 'pTL', 'etaL', 'Class',\n",
    "                                 'mBBJ', 'pTJ3'], axis=1)\n",
    "df_3jet_filtered = df_3jet.drop(['sample','EventWeight','nJ','nBJ', 'dEtaBB', 'dPhiBB',\n",
    "                                 'dEtaWH', 'dPhiLMET', 'BDT', 'pTL', 'etaL', 'Class'], axis=1)\n",
    "\n",
    "# Convert to ndarray. All elements will be recast as floats.\n",
    "dataset_2jet = df_2jet_filtered.as_matrix()\n",
    "dataset_3jet = df_3jet_filtered.as_matrix()\n",
    "\n",
    "# Split into training and test sets.\n",
    "X_k1_2jet, X_k2_2jet, Y_k1_2jet, Y_k2_2jet = train_test_split(dataset_2jet,\n",
    "                                                                            classification_2jet,\n",
    "                                                                            test_size=0.5,\n",
    "                                                                            random_state=42)\n",
    "\n",
    "X_k1_3jet, X_k2_3jet, Y_k1_3jet, Y_k2_3jet = train_test_split(dataset_3jet,\n",
    "                                                                            classification_3jet,\n",
    "                                                                            test_size=0.5,\n",
    "                                                                            random_state=42)\n",
    "\n",
    "# Preserve event numbers of train and test sets, then drop from training and test sets.\n",
    "\n",
    "X_k1_2jet_event_nos = X_k1_2jet[:, 0].astype(int)\n",
    "X_k1_3jet_event_nos = X_k1_3jet[:, 0].astype(int)\n",
    "X_k2_2jet_event_nos = X_k2_2jet[:, 0].astype(int)\n",
    "X_k2_3jet_event_nos = X_k2_3jet[:, 0].astype(int)\n",
    "\n",
    "X_k1_2jet = np.delete(X_k1_2jet, 0, 1)\n",
    "X_k1_3jet = np.delete(X_k1_3jet, 0, 1)\n",
    "X_k2_2jet = np.delete(X_k2_2jet, 0, 1)\n",
    "X_k2_3jet = np.delete(X_k2_3jet, 0, 1)\n",
    "\n",
    "# Map event numbers to process type numbers.\n",
    "event_to_process_nos = pd.Series(df['sample'].as_matrix(),\n",
    "                                 index=df['EventNumber'].as_matrix()).to_dict()\n",
    "\n",
    "X_k1_2jet_process_nos = map(lambda a: event_to_process_nos[a],X_k1_2jet_event_nos)\n",
    "X_k1_3jet_process_nos = map(lambda a: event_to_process_nos[a],X_k1_3jet_event_nos)\n",
    "X_k2_2jet_process_nos = map(lambda a: event_to_process_nos[a],X_k2_2jet_event_nos)\n",
    "X_k2_3jet_process_nos = map(lambda a: event_to_process_nos[a],X_k2_3jet_event_nos)\n",
    "\n",
    "# Map process types numbers to process type groups.\n",
    "# Note that this is a convoluted process and could be\n",
    "# simplified at a later date...\n",
    "X_k1_2jet_processes = np.array(map(lambda a: sample_map_invert[a], X_k1_2jet_process_nos))\n",
    "X_k1_3jet_processes = np.array(map(lambda a: sample_map_invert[a], X_k1_3jet_process_nos))\n",
    "X_k2_2jet_processes = np.array(map(lambda a: sample_map_invert[a], X_k2_2jet_process_nos))\n",
    "X_k2_3jet_processes = np.array(map(lambda a: sample_map_invert[a], X_k2_3jet_process_nos))\n",
    "\n",
    "X_2jet_processes = np.append(X_k1_2jet_processes, X_k2_2jet_processes)\n",
    "\n",
    "# Get event to weight mapping.\n",
    "event_to_weight = pd.Series(df['EventWeight'].as_matrix(),\n",
    "                            index=df['EventNumber'].as_matrix()).to_dict()\n",
    "\n",
    "# Map event numbers to event weights.\n",
    "weights_k1_2jet = np.array(map(lambda a: event_to_weight[a], X_k1_2jet_event_nos))\n",
    "weights_k1_3jet = np.array(map(lambda a: event_to_weight[a], X_k1_3jet_event_nos))\n",
    "weights_k2_2jet = np.array(map(lambda a: event_to_weight[a], X_k2_2jet_event_nos))\n",
    "weights_k2_3jet = np.array(map(lambda a: event_to_weight[a], X_k2_3jet_event_nos))\n",
    "\n",
    "weights_2jet = np.append(weights_k1_2jet, weights_k2_2jet)\n",
    "weights_3jet = np.append(weights_k1_3jet, weights_k2_3jet)"
   ]
  },
  {
   "cell_type": "markdown",
   "metadata": {},
   "source": [
    "### 2 Jet BDTs"
   ]
  },
  {
   "cell_type": "code",
   "execution_count": 32,
   "metadata": {},
   "outputs": [],
   "source": [
    "bdt_k1_2jet = AdaBoostClassifier(DecisionTreeClassifier(max_depth=3, min_samples_split=0.05),\n",
    "                         learning_rate=0.15,\n",
    "                         algorithm=\"SAMME\",\n",
    "                         n_estimators=200\n",
    "                         )\n",
    "\n",
    "bdt_k2_2jet = AdaBoostClassifier(DecisionTreeClassifier(max_depth=3, min_samples_split=0.05),\n",
    "                         learning_rate=0.15,\n",
    "                         algorithm=\"SAMME\",\n",
    "                         n_estimators=200\n",
    "                         )\n",
    "\n",
    "# Train BDT for 2 jet.\n",
    "bdt_k1_2jet.fit(X_k1_2jet, Y_k1_2jet, sample_weight=weights_k1_2jet)\n",
    "bdt_k2_2jet.fit(X_k2_2jet, Y_k2_2jet, sample_weight=weights_k2_2jet)\n",
    "\n",
    "# Get decision scores.\n",
    "# K1 BDT tests on K2 data, and vice-versa.\n",
    "output_k1_2jet = np.array(bdt_k1_2jet.decision_function(X_k2_2jet))\n",
    "output_k2_2jet = np.array(bdt_k2_2jet.decision_function(X_k1_2jet))\n",
    "output_2jet = np.append(output_k2_2jet, output_k1_2jet) # IMPORTANT: order reversal"
   ]
  },
  {
   "cell_type": "code",
   "execution_count": 32,
   "metadata": {},
   "outputs": [],
   "source": [
    ""
   ]
  },
  {
   "cell_type": "markdown",
   "metadata": {},
   "source": [
    "### Hyperparameter Scan"
   ]
  },
  {
   "cell_type": "code",
   "execution_count": 33,
   "metadata": {},
   "outputs": [],
   "source": [
    "param_grid = {\"n_estimators\": np.arange(100,350,50),\n",
    "              \"learning_rate\": np.arange(0.1,0.4,0.1),\n",
    "              \"base_estimator__splitter\": ['best', 'random']}\n",
    "\n",
    "\n",
    "def hyperparam_scan(mva, param_grid, X, Y):\n",
    "    \n",
    "    scanner = GridSearchCV(mva,\n",
    "                           param_grid,\n",
    "                           scoring='roc_auc',\n",
    "                           n_jobs=1,\n",
    "                           cv=3)\n",
    "    \n",
    "    scanner.fit(X,Y)\n",
    "    return scanner"
   ]
  },
  {
   "cell_type": "markdown",
   "metadata": {},
   "source": [
    "### 2 Jet Plot"
   ]
  },
  {
   "cell_type": "code",
   "execution_count": 34,
   "metadata": {},
   "outputs": [
    {
     "data": {
      "image/png": "[encoded data removed]",
      "text/plain": [
       "<matplotlib.figure.Figure at 0x1105144d0>"
      ]
     },
     "metadata": {},
     "output_type": "display_data"
    }
   ],
   "source": [
    "# Plot decision histogram.\n",
    "plot_range = (output_2jet.min(), output_2jet.max())\n",
    "\n",
    "plot_colors = ['#CCCCCC', '#999999', '#333333', '#FFFF66', '#CC9900',\n",
    "               '#CC9900', '#FFCC00', '#99CCFF', '#6699CC', '#3399FF',\n",
    "               '#6699FF', '#0066CC', '#0066CC', '#99FF99', '#66CC66',\n",
    "               '#009900', '#00CC00', '#007700', '#006600', '#FF0000',\n",
    "               '#CC0000']\n",
    "\n",
    "plot_step = 0.02\n",
    "class_names = ['WZ', 'ZZ', 'WW', 'stopWt', 'stops', 'stopt', 'ttbar',\n",
    "               'Zl', 'Zcl', 'Zbl', 'Zcc', 'Zbc', 'Zbb', 'Wl', 'Wcl',\n",
    "               'Wbl', 'Wcc', 'Wbc', 'Wbb', 'qqWlvH125', 'qqZvvH125']\n",
    "\n",
    "plot_data = []\n",
    "plot_weights = []\n",
    "for n, c in zip(class_names[-2:], plot_colors[-2:]):\n",
    "    this_data = output_2jet[X_2jet_processes == n]\n",
    "    this_weights = weights_2jet[X_2jet_processes == n] * SF_map_2jet[n]\n",
    "    plot_data.append(this_data)\n",
    "    plot_weights.append(this_weights)\n",
    "\n",
    "a = plt.hist(plot_data,\n",
    "         bins=15,\n",
    "         weights=plot_weights,\n",
    "         range=plot_range,\n",
    "         rwidth=1,\n",
    "         color=plot_colors[-2:],\n",
    "         label=class_names[-2:],\n",
    "         stacked=True,\n",
    "         edgecolor='None')\n",
    "x1, x2, y1, y2 = plt.axis()\n",
    "plt.axis((x1, x2, y1, y2 * 1.2))\n",
    "plt.legend(loc='upper right', ncol=2, prop={'size': 12})\n",
    "plt.ylabel('Samples')\n",
    "plt.xlabel('Score')\n",
    "plt.title('Decision Scores')\n",
    "\n",
    "plt.tight_layout()\n",
    "plt.subplots_adjust(wspace=0.35)\n",
    "\n",
    "plt.savefig('skl_analysis/replica_BDT_kFold_1502_v2.png')\n",
    "\n",
    "plt.show()"
   ]
  },
  {
   "cell_type": "code",
   "execution_count": 12,
   "metadata": {},
   "outputs": [
    {
     "data": {
      "text/plain": [
       "([array([ 13.64371441,  14.08431375,   8.48966493,   5.28547119,\n           3.38953357,   3.25087865,   4.78832774,   3.90039775,\n           7.36245988,   4.46109298,   3.75887722,   4.70261011,\n           3.44997604,   0.91359009,   0.4072402 ]),\n  array([ 14.36795157,  14.50502627,   9.03940189,   5.78835977,\n           3.55072784,   3.36061002,   5.05610347,   4.28183464,\n           7.9142394 ,   4.5777908 ,   4.03241961,   4.73384736,\n           3.6191654 ,   0.87284199,   0.4072402 ]),\n  array([ 15.25050897,  14.8597508 ,   9.1969168 ,   6.04575263,\n           3.58111611,   3.71309076,   5.08796511,   4.47659793,\n           8.11486222,   4.72672872,   4.16645316,   5.07437752,\n           3.80707427,   1.32678176,   0.4072402 ]),\n  array([ 65.44689245,  57.83558219,  33.65503264,  24.97479707,\n          14.16641607,  17.60071914,  21.88601148,  19.95484584,\n          23.50948846,  18.85495661,  15.82174135,  17.8242708 ,\n          14.3410817 ,   4.64094886,   0.58976776]),\n  array([ 89.45218462,  76.55343416,  44.9236681 ,  36.52081047,\n          19.77706728,  22.9291808 ,  28.43460349,  26.95253109,\n          31.53224227,  26.273601  ,  21.66179883,  23.48237731,\n          20.29108715,   6.45770167,   0.93544318]),\n  array([ 146.71781661,  130.95981377,   73.20411445,   68.72194762,\n           39.80191834,   42.20546475,   51.49538774,   53.4777976 ,\n           62.18326381,   44.91366558,   39.78329353,   43.3351109 ,\n           33.9091715 ,   13.5049502 ,    0.68676488]),\n  array([ 527.73004906,  501.09178632,  329.95123496,  248.86558504,\n          177.54422576,  156.8236138 ,  195.04310635,  182.86509643,\n          222.79627765,  177.61572469,  136.57663343,  177.60486859,\n          141.54765432,   58.62762539,    6.88319527]),\n  array([ 527.86301057,  501.21436519,  330.11853942,  249.00650065,\n          177.60902686,  156.89470445,  195.03215871,  182.91709268,\n          222.87012923,  177.68590676,  136.60393538,  177.58971416,\n          141.56736423,   58.6315535 ,    6.89653159]),\n  array([ 527.96712621,  501.40201592,  330.3051614 ,  249.25017811,\n          177.75645771,  156.97167309,  195.17247145,  182.94378684,\n          222.89728656,  177.8512356 ,  136.73108352,  177.65101854,\n          141.75008541,   58.62550233,    6.89653159]),\n  array([ 528.19773854,  502.10835922,  330.62511465,  249.62844597,\n          177.70684351,  156.99772234,  195.50757123,  183.17582558,\n          223.12442112,  178.35410773,  136.94756739,  177.67779727,\n          141.84834719,   58.73871612,    6.8748459 ]),\n  array([ 528.38997728,  502.14764209,  330.78721019,  249.6528252 ,\n          177.74484496,  157.10109632,  195.65617901,  183.28747789,\n          223.26068075,  178.44433548,  136.97989195,  177.76575313,\n          141.89674803,   58.75035118,    6.8748459 ]),\n  array([ 528.70908754,  502.55805577,  331.36875063,  249.82550389,\n          177.88462886,  157.28415701,  195.65617901,  183.61732348,\n          223.39472395,  178.71463591,  137.00902787,  178.3760201 ,\n          142.02333674,   58.80267156,    6.8748459 ]),\n  array([ 540.50759116,  511.50574275,  339.09270194,  257.46794156,\n          181.13841808,  159.39248611,  200.54247013,  188.35363888,\n          227.77772553,  182.52872812,  139.73040444,  181.96542302,\n          144.49077111,   60.3460474 ,    7.1106555 ]),\n  array([ 542.32115701,  512.53512739,  339.96974455,  258.33163798,\n          180.92927962,  159.83317269,  201.1369804 ,  188.41172542,\n          228.64127517,  183.25288135,  142.16647607,  182.43918492,\n          145.13884366,   60.5452248 ,    7.129212  ]),\n  array([ 548.20672069,  519.72771019,  343.44841387,  260.62618385,\n          182.07700807,  160.98157837,  203.38106081,  189.8892293 ,\n          230.14838438,  185.04270068,  145.00167517,  184.12759455,\n          146.37838298,   60.7520623 ,    7.2127973 ]),\n  array([ 564.1316551 ,  539.40864844,  352.79931461,  265.50352408,\n          186.41819164,  164.08262956,  206.45256118,  195.16518746,\n          236.42104853,  207.53326806,  150.12193809,  187.81088578,\n          150.25850431,   61.46500682,    7.23957731]),\n  array([ 572.23910376,  548.13577407,  355.78589808,  272.86868465,\n          188.34418392,  166.61778016,  209.94507201,  198.34676038,\n          239.72331364,  209.96999358,  152.97227287,  189.13223885,\n          153.46425184,   63.32326501,    7.54132704]),\n  array([ 595.71450448,  569.51124662,  370.38579138,  281.57951208,\n          195.30622868,  170.39942707,  216.25943579,  206.57705024,\n          247.23463946,  215.52378693,  158.2163316 ,  193.36895457,\n          158.97346838,   67.42733946,    8.87358431]),\n  array([ 838.45967082,  792.11752601,  506.23052241,  415.28850403,\n          272.79218697,  234.86329298,  303.71676073,  299.52092552,\n          355.15007904,  308.06656565,  231.4986898 ,  265.52949945,\n          225.76188149,   98.66126365,   12.74391793]),\n  array([ 846.75061571,  799.56558148,  511.5410193 ,  419.60880554,\n          275.21083267,  237.18479886,  306.86877004,  302.2314609 ,\n          358.68810984,  310.79538619,  233.77729232,  268.0337209 ,\n          227.91710993,   99.43354774,   12.82978342]),\n  array([ 846.75061571,  799.56558148,  511.5410193 ,  419.60880554,\n          275.21083267,  237.18479886,  306.86877004,  302.2314609 ,\n          358.68810984,  310.79538619,  233.77729232,  268.0337209 ,\n          227.91710993,   99.43354774,   12.82978342])],\n array([-1.        , -0.92532703, -0.85065407, -0.7759811 , -0.70130814,\n        -0.62663517, -0.55196221, -0.47728924, -0.40261628, -0.32794331,\n        -0.25327035, -0.17859738, -0.10392442, -0.02925145,  0.04542151,\n         0.12009448]),\n <a list of 21 Lists of Patches objects>)"
      ]
     },
     "execution_count": 12,
     "metadata": {},
     "output_type": "execute_result"
    }
   ],
   "source": [
    "a"
   ]
  },
  {
   "cell_type": "code",
   "execution_count": null,
   "metadata": {},
   "outputs": [],
   "source": [
    ""
   ]
  }
 ],
 "metadata": {
  "kernelspec": {
   "display_name": "Python 2",
   "language": "python",
   "name": "python2"
  },
  "language_info": {
   "codemirror_mode": {
    "name": "ipython",
    "version": 2.0
   },
   "file_extension": ".py",
   "mimetype": "text/x-python",
   "name": "python",
   "nbconvert_exporter": "python",
   "pygments_lexer": "ipython2",
   "version": "2.7.6"
  }
 },
 "nbformat": 4,
 "nbformat_minor": 0
}